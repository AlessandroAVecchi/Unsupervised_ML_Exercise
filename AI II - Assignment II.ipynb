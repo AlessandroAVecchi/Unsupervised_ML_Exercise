{
 "cells": [
  {
   "cell_type": "markdown",
   "metadata": {},
   "source": [
    "# AI II - Assignment II"
   ]
  },
  {
   "cell_type": "code",
   "execution_count": 1,
   "metadata": {},
   "outputs": [],
   "source": [
    "#importing the libraries\n",
    "\n",
    "import pandas as pd\n",
    "import numpy as np\n",
    "from sklearn.compose import make_column_transformer\n",
    "from sklearn.preprocessing import StandardScaler\n",
    "from sklearn.preprocessing import OrdinalEncoder\n",
    "from sklearn.model_selection import train_test_split\n",
    "from sklearn.ensemble import RandomForestClassifier\n",
    "from sklearn.metrics import confusion_matrix\n",
    "%matplotlib inline\n",
    "import matplotlib.pyplot as plt\n",
    "import seaborn as sns\n",
    "from sklearn.metrics import plot_precision_recall_curve\n",
    "from sklearn.decomposition import PCA\n",
    "from sklearn.svm import SVC\n",
    "from sklearn.model_selection import GridSearchCV\n",
    "from sklearn.metrics import classification_report, precision_score, recall_score\n",
    "from sklearn.pipeline import Pipeline\n",
    "from sklearn.model_selection import cross_validate, StratifiedKFold"
   ]
  },
  {
   "cell_type": "code",
   "execution_count": 2,
   "metadata": {},
   "outputs": [
    {
     "data": {
      "text/html": [
       "<div>\n",
       "<style scoped>\n",
       "    .dataframe tbody tr th:only-of-type {\n",
       "        vertical-align: middle;\n",
       "    }\n",
       "\n",
       "    .dataframe tbody tr th {\n",
       "        vertical-align: top;\n",
       "    }\n",
       "\n",
       "    .dataframe thead th {\n",
       "        text-align: right;\n",
       "    }\n",
       "</style>\n",
       "<table border=\"1\" class=\"dataframe\">\n",
       "  <thead>\n",
       "    <tr style=\"text-align: right;\">\n",
       "      <th></th>\n",
       "      <th>age</th>\n",
       "      <th>job</th>\n",
       "      <th>marital</th>\n",
       "      <th>education</th>\n",
       "      <th>default</th>\n",
       "      <th>balance</th>\n",
       "      <th>housing</th>\n",
       "      <th>loan</th>\n",
       "      <th>contact</th>\n",
       "      <th>day</th>\n",
       "      <th>month</th>\n",
       "      <th>duration</th>\n",
       "      <th>campaign</th>\n",
       "      <th>pdays</th>\n",
       "      <th>previous</th>\n",
       "      <th>poutcome</th>\n",
       "      <th>y</th>\n",
       "    </tr>\n",
       "  </thead>\n",
       "  <tbody>\n",
       "    <tr>\n",
       "      <th>0</th>\n",
       "      <td>30</td>\n",
       "      <td>unemployed</td>\n",
       "      <td>married</td>\n",
       "      <td>primary</td>\n",
       "      <td>no</td>\n",
       "      <td>1787</td>\n",
       "      <td>no</td>\n",
       "      <td>no</td>\n",
       "      <td>cellular</td>\n",
       "      <td>19</td>\n",
       "      <td>oct</td>\n",
       "      <td>79</td>\n",
       "      <td>1</td>\n",
       "      <td>-1</td>\n",
       "      <td>0</td>\n",
       "      <td>unknown</td>\n",
       "      <td>no</td>\n",
       "    </tr>\n",
       "    <tr>\n",
       "      <th>1</th>\n",
       "      <td>33</td>\n",
       "      <td>services</td>\n",
       "      <td>married</td>\n",
       "      <td>secondary</td>\n",
       "      <td>no</td>\n",
       "      <td>4789</td>\n",
       "      <td>yes</td>\n",
       "      <td>yes</td>\n",
       "      <td>cellular</td>\n",
       "      <td>11</td>\n",
       "      <td>may</td>\n",
       "      <td>220</td>\n",
       "      <td>1</td>\n",
       "      <td>339</td>\n",
       "      <td>4</td>\n",
       "      <td>failure</td>\n",
       "      <td>no</td>\n",
       "    </tr>\n",
       "    <tr>\n",
       "      <th>2</th>\n",
       "      <td>35</td>\n",
       "      <td>management</td>\n",
       "      <td>single</td>\n",
       "      <td>tertiary</td>\n",
       "      <td>no</td>\n",
       "      <td>1350</td>\n",
       "      <td>yes</td>\n",
       "      <td>no</td>\n",
       "      <td>cellular</td>\n",
       "      <td>16</td>\n",
       "      <td>apr</td>\n",
       "      <td>185</td>\n",
       "      <td>1</td>\n",
       "      <td>330</td>\n",
       "      <td>1</td>\n",
       "      <td>failure</td>\n",
       "      <td>no</td>\n",
       "    </tr>\n",
       "    <tr>\n",
       "      <th>3</th>\n",
       "      <td>30</td>\n",
       "      <td>management</td>\n",
       "      <td>married</td>\n",
       "      <td>tertiary</td>\n",
       "      <td>no</td>\n",
       "      <td>1476</td>\n",
       "      <td>yes</td>\n",
       "      <td>yes</td>\n",
       "      <td>unknown</td>\n",
       "      <td>3</td>\n",
       "      <td>jun</td>\n",
       "      <td>199</td>\n",
       "      <td>4</td>\n",
       "      <td>-1</td>\n",
       "      <td>0</td>\n",
       "      <td>unknown</td>\n",
       "      <td>no</td>\n",
       "    </tr>\n",
       "    <tr>\n",
       "      <th>4</th>\n",
       "      <td>59</td>\n",
       "      <td>blue-collar</td>\n",
       "      <td>married</td>\n",
       "      <td>secondary</td>\n",
       "      <td>no</td>\n",
       "      <td>0</td>\n",
       "      <td>yes</td>\n",
       "      <td>no</td>\n",
       "      <td>unknown</td>\n",
       "      <td>5</td>\n",
       "      <td>may</td>\n",
       "      <td>226</td>\n",
       "      <td>1</td>\n",
       "      <td>-1</td>\n",
       "      <td>0</td>\n",
       "      <td>unknown</td>\n",
       "      <td>no</td>\n",
       "    </tr>\n",
       "    <tr>\n",
       "      <th>...</th>\n",
       "      <td>...</td>\n",
       "      <td>...</td>\n",
       "      <td>...</td>\n",
       "      <td>...</td>\n",
       "      <td>...</td>\n",
       "      <td>...</td>\n",
       "      <td>...</td>\n",
       "      <td>...</td>\n",
       "      <td>...</td>\n",
       "      <td>...</td>\n",
       "      <td>...</td>\n",
       "      <td>...</td>\n",
       "      <td>...</td>\n",
       "      <td>...</td>\n",
       "      <td>...</td>\n",
       "      <td>...</td>\n",
       "      <td>...</td>\n",
       "    </tr>\n",
       "    <tr>\n",
       "      <th>4516</th>\n",
       "      <td>33</td>\n",
       "      <td>services</td>\n",
       "      <td>married</td>\n",
       "      <td>secondary</td>\n",
       "      <td>no</td>\n",
       "      <td>-333</td>\n",
       "      <td>yes</td>\n",
       "      <td>no</td>\n",
       "      <td>cellular</td>\n",
       "      <td>30</td>\n",
       "      <td>jul</td>\n",
       "      <td>329</td>\n",
       "      <td>5</td>\n",
       "      <td>-1</td>\n",
       "      <td>0</td>\n",
       "      <td>unknown</td>\n",
       "      <td>no</td>\n",
       "    </tr>\n",
       "    <tr>\n",
       "      <th>4517</th>\n",
       "      <td>57</td>\n",
       "      <td>self-employed</td>\n",
       "      <td>married</td>\n",
       "      <td>tertiary</td>\n",
       "      <td>yes</td>\n",
       "      <td>-3313</td>\n",
       "      <td>yes</td>\n",
       "      <td>yes</td>\n",
       "      <td>unknown</td>\n",
       "      <td>9</td>\n",
       "      <td>may</td>\n",
       "      <td>153</td>\n",
       "      <td>1</td>\n",
       "      <td>-1</td>\n",
       "      <td>0</td>\n",
       "      <td>unknown</td>\n",
       "      <td>no</td>\n",
       "    </tr>\n",
       "    <tr>\n",
       "      <th>4518</th>\n",
       "      <td>57</td>\n",
       "      <td>technician</td>\n",
       "      <td>married</td>\n",
       "      <td>secondary</td>\n",
       "      <td>no</td>\n",
       "      <td>295</td>\n",
       "      <td>no</td>\n",
       "      <td>no</td>\n",
       "      <td>cellular</td>\n",
       "      <td>19</td>\n",
       "      <td>aug</td>\n",
       "      <td>151</td>\n",
       "      <td>11</td>\n",
       "      <td>-1</td>\n",
       "      <td>0</td>\n",
       "      <td>unknown</td>\n",
       "      <td>no</td>\n",
       "    </tr>\n",
       "    <tr>\n",
       "      <th>4519</th>\n",
       "      <td>28</td>\n",
       "      <td>blue-collar</td>\n",
       "      <td>married</td>\n",
       "      <td>secondary</td>\n",
       "      <td>no</td>\n",
       "      <td>1137</td>\n",
       "      <td>no</td>\n",
       "      <td>no</td>\n",
       "      <td>cellular</td>\n",
       "      <td>6</td>\n",
       "      <td>feb</td>\n",
       "      <td>129</td>\n",
       "      <td>4</td>\n",
       "      <td>211</td>\n",
       "      <td>3</td>\n",
       "      <td>other</td>\n",
       "      <td>no</td>\n",
       "    </tr>\n",
       "    <tr>\n",
       "      <th>4520</th>\n",
       "      <td>44</td>\n",
       "      <td>entrepreneur</td>\n",
       "      <td>single</td>\n",
       "      <td>tertiary</td>\n",
       "      <td>no</td>\n",
       "      <td>1136</td>\n",
       "      <td>yes</td>\n",
       "      <td>yes</td>\n",
       "      <td>cellular</td>\n",
       "      <td>3</td>\n",
       "      <td>apr</td>\n",
       "      <td>345</td>\n",
       "      <td>2</td>\n",
       "      <td>249</td>\n",
       "      <td>7</td>\n",
       "      <td>other</td>\n",
       "      <td>no</td>\n",
       "    </tr>\n",
       "  </tbody>\n",
       "</table>\n",
       "<p>4521 rows × 17 columns</p>\n",
       "</div>"
      ],
      "text/plain": [
       "      age            job  marital  education default  balance housing loan  \\\n",
       "0      30     unemployed  married    primary      no     1787      no   no   \n",
       "1      33       services  married  secondary      no     4789     yes  yes   \n",
       "2      35     management   single   tertiary      no     1350     yes   no   \n",
       "3      30     management  married   tertiary      no     1476     yes  yes   \n",
       "4      59    blue-collar  married  secondary      no        0     yes   no   \n",
       "...   ...            ...      ...        ...     ...      ...     ...  ...   \n",
       "4516   33       services  married  secondary      no     -333     yes   no   \n",
       "4517   57  self-employed  married   tertiary     yes    -3313     yes  yes   \n",
       "4518   57     technician  married  secondary      no      295      no   no   \n",
       "4519   28    blue-collar  married  secondary      no     1137      no   no   \n",
       "4520   44   entrepreneur   single   tertiary      no     1136     yes  yes   \n",
       "\n",
       "       contact  day month  duration  campaign  pdays  previous poutcome   y  \n",
       "0     cellular   19   oct        79         1     -1         0  unknown  no  \n",
       "1     cellular   11   may       220         1    339         4  failure  no  \n",
       "2     cellular   16   apr       185         1    330         1  failure  no  \n",
       "3      unknown    3   jun       199         4     -1         0  unknown  no  \n",
       "4      unknown    5   may       226         1     -1         0  unknown  no  \n",
       "...        ...  ...   ...       ...       ...    ...       ...      ...  ..  \n",
       "4516  cellular   30   jul       329         5     -1         0  unknown  no  \n",
       "4517   unknown    9   may       153         1     -1         0  unknown  no  \n",
       "4518  cellular   19   aug       151        11     -1         0  unknown  no  \n",
       "4519  cellular    6   feb       129         4    211         3    other  no  \n",
       "4520  cellular    3   apr       345         2    249         7    other  no  \n",
       "\n",
       "[4521 rows x 17 columns]"
      ]
     },
     "execution_count": 2,
     "metadata": {},
     "output_type": "execute_result"
    }
   ],
   "source": [
    "#importing the dataset\n",
    "\n",
    "df = pd.read_csv('bank.csv', delimiter = ';')\n",
    "\n",
    "df"
   ]
  },
  {
   "cell_type": "markdown",
   "metadata": {},
   "source": [
    "### Question 1. \n",
    "From the modified dataset in question 2 of the previous assignment (not encoded with the features dropped) train a RandomForestClassifier (n_estimators=10). "
   ]
  },
  {
   "cell_type": "code",
   "execution_count": 3,
   "metadata": {},
   "outputs": [
    {
     "data": {
      "text/html": [
       "<div>\n",
       "<style scoped>\n",
       "    .dataframe tbody tr th:only-of-type {\n",
       "        vertical-align: middle;\n",
       "    }\n",
       "\n",
       "    .dataframe tbody tr th {\n",
       "        vertical-align: top;\n",
       "    }\n",
       "\n",
       "    .dataframe thead th {\n",
       "        text-align: right;\n",
       "    }\n",
       "</style>\n",
       "<table border=\"1\" class=\"dataframe\">\n",
       "  <thead>\n",
       "    <tr style=\"text-align: right;\">\n",
       "      <th></th>\n",
       "      <th>age</th>\n",
       "      <th>job</th>\n",
       "      <th>marital</th>\n",
       "      <th>education</th>\n",
       "      <th>balance</th>\n",
       "      <th>housing</th>\n",
       "      <th>loan</th>\n",
       "      <th>contact</th>\n",
       "      <th>campaign</th>\n",
       "      <th>pdays</th>\n",
       "      <th>previous</th>\n",
       "      <th>y</th>\n",
       "    </tr>\n",
       "  </thead>\n",
       "  <tbody>\n",
       "    <tr>\n",
       "      <th>0</th>\n",
       "      <td>30</td>\n",
       "      <td>unemployed</td>\n",
       "      <td>married</td>\n",
       "      <td>primary</td>\n",
       "      <td>1787</td>\n",
       "      <td>no</td>\n",
       "      <td>no</td>\n",
       "      <td>cellular</td>\n",
       "      <td>1</td>\n",
       "      <td>-1</td>\n",
       "      <td>0</td>\n",
       "      <td>no</td>\n",
       "    </tr>\n",
       "    <tr>\n",
       "      <th>1</th>\n",
       "      <td>33</td>\n",
       "      <td>services</td>\n",
       "      <td>married</td>\n",
       "      <td>secondary</td>\n",
       "      <td>4789</td>\n",
       "      <td>yes</td>\n",
       "      <td>yes</td>\n",
       "      <td>cellular</td>\n",
       "      <td>1</td>\n",
       "      <td>339</td>\n",
       "      <td>4</td>\n",
       "      <td>no</td>\n",
       "    </tr>\n",
       "    <tr>\n",
       "      <th>2</th>\n",
       "      <td>35</td>\n",
       "      <td>management</td>\n",
       "      <td>single</td>\n",
       "      <td>tertiary</td>\n",
       "      <td>1350</td>\n",
       "      <td>yes</td>\n",
       "      <td>no</td>\n",
       "      <td>cellular</td>\n",
       "      <td>1</td>\n",
       "      <td>330</td>\n",
       "      <td>1</td>\n",
       "      <td>no</td>\n",
       "    </tr>\n",
       "    <tr>\n",
       "      <th>3</th>\n",
       "      <td>30</td>\n",
       "      <td>management</td>\n",
       "      <td>married</td>\n",
       "      <td>tertiary</td>\n",
       "      <td>1476</td>\n",
       "      <td>yes</td>\n",
       "      <td>yes</td>\n",
       "      <td>unknown</td>\n",
       "      <td>4</td>\n",
       "      <td>-1</td>\n",
       "      <td>0</td>\n",
       "      <td>no</td>\n",
       "    </tr>\n",
       "    <tr>\n",
       "      <th>4</th>\n",
       "      <td>59</td>\n",
       "      <td>blue-collar</td>\n",
       "      <td>married</td>\n",
       "      <td>secondary</td>\n",
       "      <td>0</td>\n",
       "      <td>yes</td>\n",
       "      <td>no</td>\n",
       "      <td>unknown</td>\n",
       "      <td>1</td>\n",
       "      <td>-1</td>\n",
       "      <td>0</td>\n",
       "      <td>no</td>\n",
       "    </tr>\n",
       "    <tr>\n",
       "      <th>...</th>\n",
       "      <td>...</td>\n",
       "      <td>...</td>\n",
       "      <td>...</td>\n",
       "      <td>...</td>\n",
       "      <td>...</td>\n",
       "      <td>...</td>\n",
       "      <td>...</td>\n",
       "      <td>...</td>\n",
       "      <td>...</td>\n",
       "      <td>...</td>\n",
       "      <td>...</td>\n",
       "      <td>...</td>\n",
       "    </tr>\n",
       "    <tr>\n",
       "      <th>4516</th>\n",
       "      <td>33</td>\n",
       "      <td>services</td>\n",
       "      <td>married</td>\n",
       "      <td>secondary</td>\n",
       "      <td>-333</td>\n",
       "      <td>yes</td>\n",
       "      <td>no</td>\n",
       "      <td>cellular</td>\n",
       "      <td>5</td>\n",
       "      <td>-1</td>\n",
       "      <td>0</td>\n",
       "      <td>no</td>\n",
       "    </tr>\n",
       "    <tr>\n",
       "      <th>4517</th>\n",
       "      <td>57</td>\n",
       "      <td>self-employed</td>\n",
       "      <td>married</td>\n",
       "      <td>tertiary</td>\n",
       "      <td>-3313</td>\n",
       "      <td>yes</td>\n",
       "      <td>yes</td>\n",
       "      <td>unknown</td>\n",
       "      <td>1</td>\n",
       "      <td>-1</td>\n",
       "      <td>0</td>\n",
       "      <td>no</td>\n",
       "    </tr>\n",
       "    <tr>\n",
       "      <th>4518</th>\n",
       "      <td>57</td>\n",
       "      <td>technician</td>\n",
       "      <td>married</td>\n",
       "      <td>secondary</td>\n",
       "      <td>295</td>\n",
       "      <td>no</td>\n",
       "      <td>no</td>\n",
       "      <td>cellular</td>\n",
       "      <td>11</td>\n",
       "      <td>-1</td>\n",
       "      <td>0</td>\n",
       "      <td>no</td>\n",
       "    </tr>\n",
       "    <tr>\n",
       "      <th>4519</th>\n",
       "      <td>28</td>\n",
       "      <td>blue-collar</td>\n",
       "      <td>married</td>\n",
       "      <td>secondary</td>\n",
       "      <td>1137</td>\n",
       "      <td>no</td>\n",
       "      <td>no</td>\n",
       "      <td>cellular</td>\n",
       "      <td>4</td>\n",
       "      <td>211</td>\n",
       "      <td>3</td>\n",
       "      <td>no</td>\n",
       "    </tr>\n",
       "    <tr>\n",
       "      <th>4520</th>\n",
       "      <td>44</td>\n",
       "      <td>entrepreneur</td>\n",
       "      <td>single</td>\n",
       "      <td>tertiary</td>\n",
       "      <td>1136</td>\n",
       "      <td>yes</td>\n",
       "      <td>yes</td>\n",
       "      <td>cellular</td>\n",
       "      <td>2</td>\n",
       "      <td>249</td>\n",
       "      <td>7</td>\n",
       "      <td>no</td>\n",
       "    </tr>\n",
       "  </tbody>\n",
       "</table>\n",
       "<p>4521 rows × 12 columns</p>\n",
       "</div>"
      ],
      "text/plain": [
       "      age            job  marital  education  balance housing loan   contact  \\\n",
       "0      30     unemployed  married    primary     1787      no   no  cellular   \n",
       "1      33       services  married  secondary     4789     yes  yes  cellular   \n",
       "2      35     management   single   tertiary     1350     yes   no  cellular   \n",
       "3      30     management  married   tertiary     1476     yes  yes   unknown   \n",
       "4      59    blue-collar  married  secondary        0     yes   no   unknown   \n",
       "...   ...            ...      ...        ...      ...     ...  ...       ...   \n",
       "4516   33       services  married  secondary     -333     yes   no  cellular   \n",
       "4517   57  self-employed  married   tertiary    -3313     yes  yes   unknown   \n",
       "4518   57     technician  married  secondary      295      no   no  cellular   \n",
       "4519   28    blue-collar  married  secondary     1137      no   no  cellular   \n",
       "4520   44   entrepreneur   single   tertiary     1136     yes  yes  cellular   \n",
       "\n",
       "      campaign  pdays  previous   y  \n",
       "0            1     -1         0  no  \n",
       "1            1    339         4  no  \n",
       "2            1    330         1  no  \n",
       "3            4     -1         0  no  \n",
       "4            1     -1         0  no  \n",
       "...        ...    ...       ...  ..  \n",
       "4516         5     -1         0  no  \n",
       "4517         1     -1         0  no  \n",
       "4518        11     -1         0  no  \n",
       "4519         4    211         3  no  \n",
       "4520         2    249         7  no  \n",
       "\n",
       "[4521 rows x 12 columns]"
      ]
     },
     "execution_count": 3,
     "metadata": {},
     "output_type": "execute_result"
    }
   ],
   "source": [
    "#eliminating irrelevant variables (as in the previous assignment)\n",
    "\n",
    "df = df.drop(['poutcome','day', 'month','default', 'duration'], axis = 1)\n",
    "\n",
    "df"
   ]
  },
  {
   "cell_type": "code",
   "execution_count": 4,
   "metadata": {},
   "outputs": [],
   "source": [
    "#eliminating irrelevant variables (explanation)\n",
    "\n",
    "# We drop the features:\n",
    "# - day, month --> because they are time-specific and do not add value to our analysis\n",
    "# - duration --> as it produces target-leakage \n",
    "# - poutcome, default --> as they contained many unknown variables and held a low feature importance"
   ]
  },
  {
   "cell_type": "code",
   "execution_count": 5,
   "metadata": {},
   "outputs": [],
   "source": [
    "#turning the target variable into numerical\n",
    "\n",
    "df['y'] = df['y'].map({'yes':1 ,'no':0})"
   ]
  },
  {
   "cell_type": "code",
   "execution_count": 6,
   "metadata": {},
   "outputs": [],
   "source": [
    "#creating the target variable\n",
    "\n",
    "X = df.drop(columns= 'y')\n",
    "y = df.y"
   ]
  },
  {
   "cell_type": "code",
   "execution_count": 7,
   "metadata": {},
   "outputs": [],
   "source": [
    "#preparing the dataset (part 1)\n",
    "\n",
    "categorical = X.select_dtypes(include='object').columns\n",
    "numerical = X.select_dtypes(exclude='object').columns\n",
    "\n",
    "clt = make_column_transformer((StandardScaler(), numerical),(OrdinalEncoder(), categorical))"
   ]
  },
  {
   "cell_type": "code",
   "execution_count": 8,
   "metadata": {},
   "outputs": [],
   "source": [
    "#preparing the dataset (part 2)\n",
    "\n",
    "X_train, X_test, y_train, y_test = train_test_split(X, y, random_state=42)\n",
    "\n",
    "X_enc_tr = clt.fit_transform(X_train)\n",
    "X_enc_ts = clt.transform(X_test)"
   ]
  },
  {
   "cell_type": "code",
   "execution_count": 9,
   "metadata": {},
   "outputs": [
    {
     "name": "stdout",
     "output_type": "stream",
     "text": [
      "0.9828908554572271\n",
      "0.8815207780725022\n"
     ]
    }
   ],
   "source": [
    "#training a random forest \n",
    "\n",
    "ens = RandomForestClassifier(n_estimators = 10)\n",
    "ens.fit(X_enc_tr, y_train)\n",
    "\n",
    "print(ens.score(X_enc_tr,y_train))\n",
    "print(ens.score(X_enc_ts,y_test))"
   ]
  },
  {
   "cell_type": "code",
   "execution_count": 10,
   "metadata": {},
   "outputs": [
    {
     "data": {
      "text/plain": [
       "array([[989,  17],\n",
       "       [117,   8]], dtype=int64)"
      ]
     },
     "execution_count": 10,
     "metadata": {},
     "output_type": "execute_result"
    }
   ],
   "source": [
    "#plotting the confusion matrix\n",
    "\n",
    "y_predicted = ens.predict(X_enc_ts)\n",
    "cm_ens = confusion_matrix(y_test, y_predicted)\n",
    "cm_ens"
   ]
  },
  {
   "cell_type": "code",
   "execution_count": 11,
   "metadata": {},
   "outputs": [
    {
     "data": {
      "text/plain": [
       "Text(33.0, 0.5, 'Actual')"
      ]
     },
     "execution_count": 11,
     "metadata": {},
     "output_type": "execute_result"
    },
    {
     "data": {
      "image/png": "[encoded data removed]",
      "text/plain": [
       "<Figure size 432x288 with 2 Axes>"
      ]
     },
     "metadata": {
      "needs_background": "light"
     },
     "output_type": "display_data"
    }
   ],
   "source": [
    "#visualization of the confusion matrix\n",
    "\n",
    "plt.figure()\n",
    "sns.heatmap(cm_ens, annot=True, fmt='g', cmap='Greens')\n",
    "plt.xlabel('Predicted')\n",
    "plt.ylabel('Actual')"
   ]
  },
  {
   "cell_type": "code",
   "execution_count": 12,
   "metadata": {},
   "outputs": [
    {
     "data": {
      "text/plain": [
       "array([[0.98310139, 0.01689861],\n",
       "       [0.936     , 0.064     ]])"
      ]
     },
     "execution_count": 12,
     "metadata": {},
     "output_type": "execute_result"
    }
   ],
   "source": [
    "#plotting the confusion matrix normalized \n",
    "\n",
    "cm_ens_n = confusion_matrix(y_test, y_predicted, normalize='true')\n",
    "cm_ens_n"
   ]
  },
  {
   "cell_type": "code",
   "execution_count": 13,
   "metadata": {},
   "outputs": [
    {
     "data": {
      "text/plain": [
       "Text(33.0, 0.5, 'Actual')"
      ]
     },
     "execution_count": 13,
     "metadata": {},
     "output_type": "execute_result"
    },
    {
     "data": {
      "image/png": "[encoded data removed]",
      "text/plain": [
       "<Figure size 432x288 with 2 Axes>"
      ]
     },
     "metadata": {
      "needs_background": "light"
     },
     "output_type": "display_data"
    }
   ],
   "source": [
    "#visualization of the normalized confusion matrix\n",
    "\n",
    "plt.figure()\n",
    "sns.heatmap(cm_ens_n, annot=True, fmt='g', cmap='Blues')\n",
    "plt.xlabel('Predicted')\n",
    "plt.ylabel('Actual')"
   ]
  },
  {
   "cell_type": "code",
   "execution_count": 14,
   "metadata": {},
   "outputs": [
    {
     "data": {
      "text/plain": [
       "Text(0.5, 1.0, 'Precision vs Recall')"
      ]
     },
     "execution_count": 14,
     "metadata": {},
     "output_type": "execute_result"
    },
    {
     "data": {
      "image/png": "[encoded data removed]",
      "text/plain": [
       "<Figure size 432x288 with 1 Axes>"
      ]
     },
     "metadata": {
      "needs_background": "light"
     },
     "output_type": "display_data"
    }
   ],
   "source": [
    "#plotting precision vs recall curve\n",
    "\n",
    "plot_precision_recall_curve(ens, X_enc_ts, y_test)\n",
    "plt.title('Precision vs Recall')"
   ]
  },
  {
   "cell_type": "markdown",
   "metadata": {},
   "source": [
    "### Question 2. \n",
    "Apply a PCA with 4 components, how much variance from the original dataset is represented in\n",
    "the new 4 components? "
   ]
  },
  {
   "cell_type": "code",
   "execution_count": 16,
   "metadata": {},
   "outputs": [],
   "source": [
    "#normalizing the dataset\n",
    "\n",
    "sc = StandardScaler()\n",
    "X_train_s = sc.fit_transform(X_enc_tr)"
   ]
  },
  {
   "cell_type": "code",
   "execution_count": 17,
   "metadata": {},
   "outputs": [
    {
     "name": "stdout",
     "output_type": "stream",
     "text": [
      "[0.1590072  0.13416169 0.12653442 0.09885547]\n"
     ]
    }
   ],
   "source": [
    "#running the PCA\n",
    "\n",
    "pca = PCA(n_components=4, random_state=42).fit(X_train_s)\n",
    "X_pca = pca.transform(X_train_s)\n",
    "\n",
    "print(pca.explained_variance_ratio_)"
   ]
  },
  {
   "cell_type": "code",
   "execution_count": 18,
   "metadata": {},
   "outputs": [
    {
     "data": {
      "text/plain": [
       "0.518558777286592"
      ]
     },
     "execution_count": 18,
     "metadata": {},
     "output_type": "execute_result"
    }
   ],
   "source": [
    "#calculating total variance explained \n",
    "\n",
    "var_explained = pca.explained_variance_ratio_\n",
    "var_explained.sum()"
   ]
  },
  {
   "cell_type": "code",
   "execution_count": 19,
   "metadata": {},
   "outputs": [
    {
     "data": {
      "text/html": [
       "<div>\n",
       "<style scoped>\n",
       "    .dataframe tbody tr th:only-of-type {\n",
       "        vertical-align: middle;\n",
       "    }\n",
       "\n",
       "    .dataframe tbody tr th {\n",
       "        vertical-align: top;\n",
       "    }\n",
       "\n",
       "    .dataframe thead th {\n",
       "        text-align: right;\n",
       "    }\n",
       "</style>\n",
       "<table border=\"1\" class=\"dataframe\">\n",
       "  <thead>\n",
       "    <tr style=\"text-align: right;\">\n",
       "      <th></th>\n",
       "      <th>age</th>\n",
       "      <th>job</th>\n",
       "      <th>marital</th>\n",
       "      <th>education</th>\n",
       "      <th>balance</th>\n",
       "      <th>housing</th>\n",
       "      <th>loan</th>\n",
       "      <th>contact</th>\n",
       "      <th>campaign</th>\n",
       "      <th>pdays</th>\n",
       "      <th>previous</th>\n",
       "    </tr>\n",
       "  </thead>\n",
       "  <tbody>\n",
       "    <tr>\n",
       "      <th>0</th>\n",
       "      <td>-0.127675</td>\n",
       "      <td>0.059769</td>\n",
       "      <td>-0.129212</td>\n",
       "      <td>0.616173</td>\n",
       "      <td>0.598317</td>\n",
       "      <td>0.063579</td>\n",
       "      <td>0.174841</td>\n",
       "      <td>0.165381</td>\n",
       "      <td>0.011023</td>\n",
       "      <td>-0.051925</td>\n",
       "      <td>-0.401246</td>\n",
       "    </tr>\n",
       "    <tr>\n",
       "      <th>1</th>\n",
       "      <td>0.619660</td>\n",
       "      <td>0.082524</td>\n",
       "      <td>-0.086676</td>\n",
       "      <td>0.205039</td>\n",
       "      <td>0.185651</td>\n",
       "      <td>-0.231195</td>\n",
       "      <td>-0.597385</td>\n",
       "      <td>-0.334647</td>\n",
       "      <td>-0.037423</td>\n",
       "      <td>0.038010</td>\n",
       "      <td>-0.006087</td>\n",
       "    </tr>\n",
       "    <tr>\n",
       "      <th>2</th>\n",
       "      <td>0.314958</td>\n",
       "      <td>0.238711</td>\n",
       "      <td>0.017844</td>\n",
       "      <td>-0.165380</td>\n",
       "      <td>-0.112106</td>\n",
       "      <td>0.422177</td>\n",
       "      <td>-0.063395</td>\n",
       "      <td>0.352708</td>\n",
       "      <td>-0.617436</td>\n",
       "      <td>-0.152295</td>\n",
       "      <td>-0.304146</td>\n",
       "    </tr>\n",
       "    <tr>\n",
       "      <th>3</th>\n",
       "      <td>0.027925</td>\n",
       "      <td>0.562596</td>\n",
       "      <td>-0.132583</td>\n",
       "      <td>0.026083</td>\n",
       "      <td>0.044830</td>\n",
       "      <td>0.000148</td>\n",
       "      <td>0.026854</td>\n",
       "      <td>0.106665</td>\n",
       "      <td>0.251957</td>\n",
       "      <td>-0.668751</td>\n",
       "      <td>0.373669</td>\n",
       "    </tr>\n",
       "  </tbody>\n",
       "</table>\n",
       "</div>"
      ],
      "text/plain": [
       "        age       job   marital  education   balance   housing      loan  \\\n",
       "0 -0.127675  0.059769 -0.129212   0.616173  0.598317  0.063579  0.174841   \n",
       "1  0.619660  0.082524 -0.086676   0.205039  0.185651 -0.231195 -0.597385   \n",
       "2  0.314958  0.238711  0.017844  -0.165380 -0.112106  0.422177 -0.063395   \n",
       "3  0.027925  0.562596 -0.132583   0.026083  0.044830  0.000148  0.026854   \n",
       "\n",
       "    contact  campaign     pdays  previous  \n",
       "0  0.165381  0.011023 -0.051925 -0.401246  \n",
       "1 -0.334647 -0.037423  0.038010 -0.006087  \n",
       "2  0.352708 -0.617436 -0.152295 -0.304146  \n",
       "3  0.106665  0.251957 -0.668751  0.373669  "
      ]
     },
     "metadata": {},
     "output_type": "display_data"
    }
   ],
   "source": [
    "#PCA visualization (part 1)\n",
    "\n",
    "display(pd.DataFrame(pca.components_, columns = X.columns))"
   ]
  },
  {
   "cell_type": "code",
   "execution_count": 20,
   "metadata": {},
   "outputs": [
    {
     "data": {
      "image/png": "[encoded data removed]",
      "text/plain": [
       "<Figure size 432x288 with 1 Axes>"
      ]
     },
     "metadata": {
      "needs_background": "light"
     },
     "output_type": "display_data"
    }
   ],
   "source": [
    "#PCA visualization (part 2)\n",
    "\n",
    "def plot_data(X, y, title, xlab='Feature 1', ylab='Feature 2', n_features=2):\n",
    "    colors = ['.r','.g','.b','.y','.m','.c']\n",
    "    for i, c in zip(range(0, n_features), colors):\n",
    "        plt.plot(X[y==i,0],X[y==i,1],c)\n",
    "    plt.xlabel(xlab)\n",
    "    plt.ylabel(ylab)\n",
    "    plt.title(title)\n",
    "    \n",
    "plot_data(X_pca, y_train, 'PCA', 'Component 1', 'Component 2',  n_features=4)    "
   ]
  },
  {
   "cell_type": "markdown",
   "metadata": {},
   "source": [
    "### Question 3. \n",
    "Using the PCA transformation and a RandomForestClassifier (n_estimators=10), score the model (accuracy) and compute/plot the confusion matrix."
   ]
  },
  {
   "cell_type": "code",
   "execution_count": 21,
   "metadata": {},
   "outputs": [
    {
     "data": {
      "text/plain": [
       "RandomForestClassifier(n_estimators=10)"
      ]
     },
     "execution_count": 21,
     "metadata": {},
     "output_type": "execute_result"
    }
   ],
   "source": [
    "#running a Random Forest\n",
    "\n",
    "ens_2 = RandomForestClassifier(n_estimators = 10)\n",
    "ens_2.fit(X_pca, y_train)"
   ]
  },
  {
   "cell_type": "code",
   "execution_count": 22,
   "metadata": {},
   "outputs": [],
   "source": [
    "#standardizing X_test\n",
    "\n",
    "X_test_s = sc.fit_transform(X_enc_ts)"
   ]
  },
  {
   "cell_type": "code",
   "execution_count": 23,
   "metadata": {},
   "outputs": [],
   "source": [
    "#running PCA on X_test\n",
    "\n",
    "pca = PCA(n_components=4, random_state=42).fit(X_test_s)\n",
    "X_test_pca = pca.transform(X_test_s)"
   ]
  },
  {
   "cell_type": "code",
   "execution_count": 24,
   "metadata": {},
   "outputs": [
    {
     "name": "stdout",
     "output_type": "stream",
     "text": [
      "0.9843657817109145\n",
      "0.8779840848806366\n"
     ]
    }
   ],
   "source": [
    "#printing model accuracy\n",
    "\n",
    "print(ens_2.score(X_pca,y_train))\n",
    "print(ens_2.score(X_test_pca, y_test))"
   ]
  },
  {
   "cell_type": "code",
   "execution_count": 25,
   "metadata": {},
   "outputs": [
    {
     "data": {
      "text/plain": [
       "array([[989,  17],\n",
       "       [117,   8]], dtype=int64)"
      ]
     },
     "execution_count": 25,
     "metadata": {},
     "output_type": "execute_result"
    }
   ],
   "source": [
    "#plotting the confusion matrix\n",
    "\n",
    "y_predicted_2 = ens_2.predict(X_test_pca)\n",
    "cm_ens_2 = confusion_matrix(y_test, y_predicted)\n",
    "cm_ens_2"
   ]
  },
  {
   "cell_type": "code",
   "execution_count": 26,
   "metadata": {},
   "outputs": [
    {
     "data": {
      "text/plain": [
       "Text(33.0, 0.5, 'Actual')"
      ]
     },
     "execution_count": 26,
     "metadata": {},
     "output_type": "execute_result"
    },
    {
     "data": {
      "image/png": "[encoded data removed]",
      "text/plain": [
       "<Figure size 432x288 with 2 Axes>"
      ]
     },
     "metadata": {
      "needs_background": "light"
     },
     "output_type": "display_data"
    }
   ],
   "source": [
    "#visualization of the confusion matrix\n",
    "\n",
    "plt.figure()\n",
    "sns.heatmap(cm_ens_2, annot=True, fmt='g', cmap='Greens')\n",
    "plt.xlabel('Predicted')\n",
    "plt.ylabel('Actual')"
   ]
  },
  {
   "cell_type": "code",
   "execution_count": 27,
   "metadata": {},
   "outputs": [
    {
     "data": {
      "text/plain": [
       "array([[0.98310139, 0.01689861],\n",
       "       [0.936     , 0.064     ]])"
      ]
     },
     "execution_count": 27,
     "metadata": {},
     "output_type": "execute_result"
    }
   ],
   "source": [
    "#plotting the confusion matrix normalized \n",
    "\n",
    "cm_ens_n2 = confusion_matrix(y_test, y_predicted, normalize='true')\n",
    "cm_ens_n2"
   ]
  },
  {
   "cell_type": "code",
   "execution_count": 28,
   "metadata": {},
   "outputs": [
    {
     "data": {
      "text/plain": [
       "Text(33.0, 0.5, 'Actual')"
      ]
     },
     "execution_count": 28,
     "metadata": {},
     "output_type": "execute_result"
    },
    {
     "data": {
      "image/png": "[encoded data removed]",
      "text/plain": [
       "<Figure size 432x288 with 2 Axes>"
      ]
     },
     "metadata": {
      "needs_background": "light"
     },
     "output_type": "display_data"
    }
   ],
   "source": [
    "#visualization of the normalized confusion matrix\n",
    "\n",
    "plt.figure()\n",
    "sns.heatmap(cm_ens_n2, annot=True, fmt='g', cmap='Blues')\n",
    "plt.xlabel('Predicted')\n",
    "plt.ylabel('Actual')"
   ]
  },
  {
   "cell_type": "markdown",
   "metadata": {},
   "source": [
    "### Question 4. \n",
    "Using GridSearchCV optimize the model to maximize 'recall', once it is optimized obtain the best parameters, a classification report of the model and the confusion matrix."
   ]
  },
  {
   "cell_type": "code",
   "execution_count": 30,
   "metadata": {},
   "outputs": [
    {
     "name": "stdout",
     "output_type": "stream",
     "text": [
      "Best estimator: RandomForestClassifier(bootstrap='False', n_estimators=50)\n",
      "Best parameters: {'bootstrap': 'False', 'n_estimators': 50}\n",
      "Best score: 0.06819620253164557\n"
     ]
    }
   ],
   "source": [
    "#optimizing recall through a random forest\n",
    "\n",
    "ens_3 = RandomForestClassifier()\n",
    "\n",
    "parameters = {'n_estimators':[50], 'bootstrap':['False']}\n",
    "gs = GridSearchCV(ens_3, parameters, scoring='recall', n_jobs=4)\n",
    "gs.fit(X_enc_tr, y_train)\n",
    "\n",
    "print(\"Best estimator: {}\".format(gs.best_estimator_))\n",
    "print(\"Best parameters: {}\".format(gs.best_params_))\n",
    "print(\"Best score: {}\".format(gs.best_score_))"
   ]
  },
  {
   "cell_type": "code",
   "execution_count": 31,
   "metadata": {},
   "outputs": [],
   "source": [
    "#calculating y_predicted\n",
    "\n",
    "y_predicted_ens3 = gs.predict(X_enc_ts)"
   ]
  },
  {
   "cell_type": "code",
   "execution_count": 32,
   "metadata": {},
   "outputs": [
    {
     "name": "stdout",
     "output_type": "stream",
     "text": [
      "Recall of the SVC: 0.072\n",
      "Precision of the SVC: 0.529\n",
      "              precision    recall  f1-score   support\n",
      "\n",
      "           0       0.90      0.99      0.94      1006\n",
      "           1       0.53      0.07      0.13       125\n",
      "\n",
      "    accuracy                           0.89      1131\n",
      "   macro avg       0.71      0.53      0.53      1131\n",
      "weighted avg       0.86      0.89      0.85      1131\n",
      "\n"
     ]
    }
   ],
   "source": [
    "#classification report 1\n",
    "\n",
    "rec = recall_score(y_test, y_predicted_ens3)\n",
    "print(\"Recall of the SVC: {:.3f}\".format(rec))\n",
    "\n",
    "pre = precision_score(y_test, y_predicted_ens3)\n",
    "print(\"Precision of the SVC: {:.3f}\".format(pre))\n",
    "\n",
    "report = classification_report(y_test, y_predicted_ens3)\n",
    "print(report)"
   ]
  },
  {
   "cell_type": "code",
   "execution_count": 33,
   "metadata": {},
   "outputs": [
    {
     "data": {
      "text/plain": [
       "array([[998,   8],\n",
       "       [116,   9]], dtype=int64)"
      ]
     },
     "execution_count": 33,
     "metadata": {},
     "output_type": "execute_result"
    }
   ],
   "source": [
    "#plotting the confusion matrix\n",
    "\n",
    "cm_ens_3 = confusion_matrix(y_test, y_predicted_ens3)\n",
    "cm_ens_3"
   ]
  },
  {
   "cell_type": "code",
   "execution_count": 34,
   "metadata": {},
   "outputs": [
    {
     "data": {
      "text/plain": [
       "Text(33.0, 0.5, 'Actual')"
      ]
     },
     "execution_count": 34,
     "metadata": {},
     "output_type": "execute_result"
    },
    {
     "data": {
      "image/png": "[encoded data removed]",
      "text/plain": [
       "<Figure size 432x288 with 2 Axes>"
      ]
     },
     "metadata": {
      "needs_background": "light"
     },
     "output_type": "display_data"
    }
   ],
   "source": [
    "#visualization of the confusion matrix\n",
    "\n",
    "plt.figure()\n",
    "sns.heatmap(cm_ens_3, annot=True, fmt='g', cmap='Greens')\n",
    "plt.xlabel('Predicted')\n",
    "plt.ylabel('Actual')"
   ]
  },
  {
   "cell_type": "code",
   "execution_count": 36,
   "metadata": {},
   "outputs": [
    {
     "data": {
      "text/plain": [
       "array([[0.98310139, 0.01689861],\n",
       "       [0.936     , 0.064     ]])"
      ]
     },
     "execution_count": 36,
     "metadata": {},
     "output_type": "execute_result"
    }
   ],
   "source": [
    "#plotting the confusion matrix normalized \n",
    "\n",
    "cm_ens_n3 = confusion_matrix(y_test, y_predicted, normalize='true')\n",
    "cm_ens_n3"
   ]
  },
  {
   "cell_type": "code",
   "execution_count": 37,
   "metadata": {},
   "outputs": [
    {
     "data": {
      "text/plain": [
       "Text(33.0, 0.5, 'Actual')"
      ]
     },
     "execution_count": 37,
     "metadata": {},
     "output_type": "execute_result"
    },
    {
     "data": {
      "image/png": "[encoded data removed]",
      "text/plain": [
       "<Figure size 432x288 with 2 Axes>"
      ]
     },
     "metadata": {
      "needs_background": "light"
     },
     "output_type": "display_data"
    }
   ],
   "source": [
    "#visualization of the normalized confusion matrix\n",
    "\n",
    "plt.figure()\n",
    "sns.heatmap(cm_ens_n3, annot=True, fmt='g', cmap='Blues')\n",
    "plt.xlabel('Predicted')\n",
    "plt.ylabel('Actual')"
   ]
  },
  {
   "cell_type": "markdown",
   "metadata": {},
   "source": [
    "### Question 5. \n",
    "Using the provided code, the StratifiedKFold and GridSearchCV functions; optimize and validate the model with the recall metric."
   ]
  },
  {
   "cell_type": "code",
   "execution_count": 38,
   "metadata": {},
   "outputs": [],
   "source": [
    "#setting the pipeline\n",
    "\n",
    "pipe = Pipeline(steps=[('pre',make_column_transformer((StandardScaler(), numerical),\n",
    "(OrdinalEncoder(), categorical))),('SVM',SVC())])\n",
    "parameters_rf = {'SVM__kernel':['linear','rbf'],'SVM__C':np.linspace(0.01,10,5),\n",
    "'SVM__gamma':np.linspace(0.01,10,5)}"
   ]
  },
  {
   "cell_type": "code",
   "execution_count": 39,
   "metadata": {},
   "outputs": [],
   "source": [
    "#running the model to optimize recall\n",
    "\n",
    "gs = GridSearchCV(pipe, parameters_rf, scoring='recall', cv=5)\n",
    "kf = StratifiedKFold(shuffle=True, n_splits=5, random_state=42)\n",
    "cv = cross_validate(gs, X, y, cv=kf, n_jobs=4, return_estimator=True)"
   ]
  },
  {
   "cell_type": "code",
   "execution_count": 40,
   "metadata": {},
   "outputs": [
    {
     "name": "stdout",
     "output_type": "stream",
     "text": [
      "Cross validation results: {'fit_time': array([1938.22464633, 2104.4953692 , 1991.32364559, 1914.8623631 ,\n",
      "       1848.63014531]), 'score_time': array([0.2712729 , 0.24833131, 0.24930167, 0.27614522, 0.23076415]), 'estimator': [GridSearchCV(cv=5,\n",
      "             estimator=Pipeline(steps=[('pre',\n",
      "                                        ColumnTransformer(transformers=[('standardscaler',\n",
      "                                                                         StandardScaler(),\n",
      "                                                                         Index(['age', 'balance', 'campaign', 'pdays', 'previous'], dtype='object')),\n",
      "                                                                        ('ordinalencoder',\n",
      "                                                                         OrdinalEncoder(),\n",
      "                                                                         Index(['job', 'marital', 'education', 'housing', 'loan', 'contact'], dtype='object'))])),\n",
      "                                       ('SVM', SVC())]),\n",
      "             param_grid={'SVM__C': array([ 0.01  ,  2.5075,  5.005 ,  7.5025, 10.    ]),\n",
      "                         'SVM__gamma': array([ 0.01  ,  2.5075,  5.005 ,  7.5025, 10.    ]),\n",
      "                         'SVM__kernel': ['linear', 'rbf']},\n",
      "             scoring='recall'), GridSearchCV(cv=5,\n",
      "             estimator=Pipeline(steps=[('pre',\n",
      "                                        ColumnTransformer(transformers=[('standardscaler',\n",
      "                                                                         StandardScaler(),\n",
      "                                                                         Index(['age', 'balance', 'campaign', 'pdays', 'previous'], dtype='object')),\n",
      "                                                                        ('ordinalencoder',\n",
      "                                                                         OrdinalEncoder(),\n",
      "                                                                         Index(['job', 'marital', 'education', 'housing', 'loan', 'contact'], dtype='object'))])),\n",
      "                                       ('SVM', SVC())]),\n",
      "             param_grid={'SVM__C': array([ 0.01  ,  2.5075,  5.005 ,  7.5025, 10.    ]),\n",
      "                         'SVM__gamma': array([ 0.01  ,  2.5075,  5.005 ,  7.5025, 10.    ]),\n",
      "                         'SVM__kernel': ['linear', 'rbf']},\n",
      "             scoring='recall'), GridSearchCV(cv=5,\n",
      "             estimator=Pipeline(steps=[('pre',\n",
      "                                        ColumnTransformer(transformers=[('standardscaler',\n",
      "                                                                         StandardScaler(),\n",
      "                                                                         Index(['age', 'balance', 'campaign', 'pdays', 'previous'], dtype='object')),\n",
      "                                                                        ('ordinalencoder',\n",
      "                                                                         OrdinalEncoder(),\n",
      "                                                                         Index(['job', 'marital', 'education', 'housing', 'loan', 'contact'], dtype='object'))])),\n",
      "                                       ('SVM', SVC())]),\n",
      "             param_grid={'SVM__C': array([ 0.01  ,  2.5075,  5.005 ,  7.5025, 10.    ]),\n",
      "                         'SVM__gamma': array([ 0.01  ,  2.5075,  5.005 ,  7.5025, 10.    ]),\n",
      "                         'SVM__kernel': ['linear', 'rbf']},\n",
      "             scoring='recall'), GridSearchCV(cv=5,\n",
      "             estimator=Pipeline(steps=[('pre',\n",
      "                                        ColumnTransformer(transformers=[('standardscaler',\n",
      "                                                                         StandardScaler(),\n",
      "                                                                         Index(['age', 'balance', 'campaign', 'pdays', 'previous'], dtype='object')),\n",
      "                                                                        ('ordinalencoder',\n",
      "                                                                         OrdinalEncoder(),\n",
      "                                                                         Index(['job', 'marital', 'education', 'housing', 'loan', 'contact'], dtype='object'))])),\n",
      "                                       ('SVM', SVC())]),\n",
      "             param_grid={'SVM__C': array([ 0.01  ,  2.5075,  5.005 ,  7.5025, 10.    ]),\n",
      "                         'SVM__gamma': array([ 0.01  ,  2.5075,  5.005 ,  7.5025, 10.    ]),\n",
      "                         'SVM__kernel': ['linear', 'rbf']},\n",
      "             scoring='recall'), GridSearchCV(cv=5,\n",
      "             estimator=Pipeline(steps=[('pre',\n",
      "                                        ColumnTransformer(transformers=[('standardscaler',\n",
      "                                                                         StandardScaler(),\n",
      "                                                                         Index(['age', 'balance', 'campaign', 'pdays', 'previous'], dtype='object')),\n",
      "                                                                        ('ordinalencoder',\n",
      "                                                                         OrdinalEncoder(),\n",
      "                                                                         Index(['job', 'marital', 'education', 'housing', 'loan', 'contact'], dtype='object'))])),\n",
      "                                       ('SVM', SVC())]),\n",
      "             param_grid={'SVM__C': array([ 0.01  ,  2.5075,  5.005 ,  7.5025, 10.    ]),\n",
      "                         'SVM__gamma': array([ 0.01  ,  2.5075,  5.005 ,  7.5025, 10.    ]),\n",
      "                         'SVM__kernel': ['linear', 'rbf']},\n",
      "             scoring='recall')], 'test_score': array([0.05714286, 0.05769231, 0.07692308, 0.02884615, 0.        ])}\n",
      "Best recall 0.044\n"
     ]
    }
   ],
   "source": [
    "#printing the results (part 1)\n",
    "\n",
    "print(\"Cross validation results: {}\".format(cv))\n",
    "print(\"Best recall {:.3f}\".format(cv['test_score'].mean()))"
   ]
  },
  {
   "cell_type": "code",
   "execution_count": 41,
   "metadata": {},
   "outputs": [
    {
     "name": "stdout",
     "output_type": "stream",
     "text": [
      "SVC(C=10.0, gamma=2.5075)\n"
     ]
    }
   ],
   "source": [
    "#printing the results (part 2)\n",
    "\n",
    "model = cv['estimator'][2].best_estimator_['SVM']\n",
    "print(model)"
   ]
  }
 ],
 "metadata": {
  "kernelspec": {
   "display_name": "Python 3",
   "language": "python",
   "name": "python3"
  },
  "language_info": {
   "codemirror_mode": {
    "name": "ipython",
    "version": 3
   },
   "file_extension": ".py",
   "mimetype": "text/x-python",
   "name": "python",
   "nbconvert_exporter": "python",
   "pygments_lexer": "ipython3",
   "version": "3.8.3"
  }
 },
 "nbformat": 4,
 "nbformat_minor": 4
}
